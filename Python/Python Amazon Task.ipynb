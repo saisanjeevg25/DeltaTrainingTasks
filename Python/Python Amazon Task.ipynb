{
 "cells": [
  {
   "cell_type": "code",
   "execution_count": 2,
   "id": "a569d073",
   "metadata": {},
   "outputs": [],
   "source": [
    "from selenium import webdriver\n",
    "from selenium.webdriver.support.ui import Select\n",
    "import pandas as pd\n",
    "import time\n",
    "import itertools"
   ]
  },
  {
   "cell_type": "code",
   "execution_count": 4,
   "id": "f194649d",
   "metadata": {},
   "outputs": [
    {
     "data": {
      "text/html": [
       "<div>\n",
       "<style scoped>\n",
       "    .dataframe tbody tr th:only-of-type {\n",
       "        vertical-align: middle;\n",
       "    }\n",
       "\n",
       "    .dataframe tbody tr th {\n",
       "        vertical-align: top;\n",
       "    }\n",
       "\n",
       "    .dataframe thead th {\n",
       "        text-align: right;\n",
       "    }\n",
       "</style>\n",
       "<table border=\"1\" class=\"dataframe\">\n",
       "  <thead>\n",
       "    <tr style=\"text-align: right;\">\n",
       "      <th></th>\n",
       "      <th>Allproducts</th>\n",
       "      <th>original_price</th>\n",
       "      <th>offer_price</th>\n",
       "    </tr>\n",
       "  </thead>\n",
       "  <tbody>\n",
       "  </tbody>\n",
       "</table>\n",
       "</div>"
      ],
      "text/plain": [
       "Empty DataFrame\n",
       "Columns: [Allproducts, original_price, offer_price]\n",
       "Index: []"
      ]
     },
     "execution_count": 4,
     "metadata": {},
     "output_type": "execute_result"
    }
   ],
   "source": [
    "driverPath = r\"D:\\Delta Training\\Python Training\\chromedriver.exe\"\n",
    "driver = webdriver.Chrome(executable_path=driverPath)\n",
    "driver.get(\"https://www.amazon.in/s?k=refrigerators+offers&ref=nb_sb_noss_1\")\n",
    "ProductNames = []\n",
    "ProdNewPrices =[]\n",
    "ProdOldPrices = []\n",
    "Pname=driver.find_elements_by_xpath(\"//span[contains(@class,'a-size-medium a-color-base a-text-normal')]\")\n",
    "Dprice =driver.find_elements_by_xpath(\"//span[contains(@class,'a-price-whole')]\")\n",
    "Oprice =driver.find_elements_by_xpath(\"//span[contains(@class,'a-price a-text-price')]\")\n",
    "for j in Pname:\n",
    "    ProductNames.append(j.text)\n",
    "for k in Dprice:\n",
    "    ProdNewPrices.append(k.text)\n",
    "for l in Oprice:\n",
    "    ProdOldPrices.append(l.text)\n",
    "df=pd.DataFrame(list(itertools.zip_longest(ProductNames,ProdNewPrices,ProdOldPrices, fillvalue=\"NA\")),columns=[\"Product Name\",\"New Price\",\"Old Price\"])\n",
    "df.to_excel(r\"D:\\Delta Training\\Python Training\\PythonAmazonTask\"+\"\\\\\"+\"RefrigeratorsOffers.xlsx\", index = False)\n",
    "driver.close()\n",
    "df"
   ]
  },
  {
   "cell_type": "code",
   "execution_count": null,
   "id": "e34087d9",
   "metadata": {},
   "outputs": [],
   "source": []
  }
 ],
 "metadata": {
  "kernelspec": {
   "display_name": "Python 3",
   "language": "python",
   "name": "python3"
  },
  "language_info": {
   "codemirror_mode": {
    "name": "ipython",
    "version": 3
   },
   "file_extension": ".py",
   "mimetype": "text/x-python",
   "name": "python",
   "nbconvert_exporter": "python",
   "pygments_lexer": "ipython3",
   "version": "3.8.8"
  }
 },
 "nbformat": 4,
 "nbformat_minor": 5
}
